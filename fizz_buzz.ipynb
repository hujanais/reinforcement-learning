{
  "nbformat": 4,
  "nbformat_minor": 0,
  "metadata": {
    "colab": {
      "name": "fizz_buzz.ipynb",
      "provenance": [],
      "collapsed_sections": [],
      "authorship_tag": "ABX9TyP+Ndx5vo7SGuhI9EBH3jR0",
      "include_colab_link": true
    },
    "kernelspec": {
      "name": "python3",
      "display_name": "Python 3"
    }
  },
  "cells": [
    {
      "cell_type": "markdown",
      "metadata": {
        "id": "view-in-github",
        "colab_type": "text"
      },
      "source": [
        "<a href=\"https://colab.research.google.com/github/hujanais/reinforcement-learning/blob/master/fizz_buzz.ipynb\" target=\"_parent\"><img src=\"https://colab.research.google.com/assets/colab-badge.svg\" alt=\"Open In Colab\"/></a>"
      ]
    },
    {
      "cell_type": "markdown",
      "metadata": {
        "id": "1NFKm3rbSfS4",
        "colab_type": "text"
      },
      "source": [
        "Solving the fizzbuzz game using a neural network"
      ]
    },
    {
      "cell_type": "code",
      "metadata": {
        "id": "rVvbWJgCSbjD",
        "colab_type": "code",
        "colab": {
          "base_uri": "https://localhost:8080/",
          "height": 35
        },
        "outputId": "6e3a9514-c606-4874-aea3-5001e19ee3e7"
      },
      "source": [
        "import numpy as np\n",
        "import random\n",
        "import matplotlib.pyplot as plt\n",
        "import matplotlib.animation as animation\n",
        "from matplotlib import style\n",
        "from collections import deque\n",
        "import pandas as pd\n",
        "\n",
        "from sklearn.model_selection import train_test_split\n",
        "from keras import Sequential\n",
        "from keras.optimizers import Adam\n",
        "from keras.layers import Dense,Activation,Dropout"
      ],
      "execution_count": 1,
      "outputs": [
        {
          "output_type": "stream",
          "text": [
            "Using TensorFlow backend.\n"
          ],
          "name": "stderr"
        }
      ]
    },
    {
      "cell_type": "code",
      "metadata": {
        "id": "vsshWk1yT3Ts",
        "colab_type": "code",
        "colab": {}
      },
      "source": [
        "###### Some helper utility functions.\n",
        "\n",
        "# converts an integer into its binary representation\n",
        "def dec2Bin(input, state_size):\n",
        "    board = np.zeros(state_size)\n",
        "    binStr = bin(input)\n",
        "    binStr = binStr.replace('0b', '')\n",
        "    binStr = binStr[::-1]\n",
        "    k = 0\n",
        "    for char in binStr:\n",
        "        board[k] = 1 if char == '1' else 0\n",
        "        k += 1\n",
        "    \n",
        "    return board\n",
        "\n",
        "# converts int to one hot vector\n",
        "def to_onehot(value,size):\n",
        "    one_hot_vector = np.zeros(size)\n",
        "    one_hot_vector[value] = 1\n",
        "    return one_hot_vector"
      ],
      "execution_count": 0,
      "outputs": []
    },
    {
      "cell_type": "code",
      "metadata": {
        "id": "h2TvpTIHSnX6",
        "colab_type": "code",
        "colab": {}
      },
      "source": [
        "###### Describes the environment\n",
        "\n",
        "NUMBER = 0\n",
        "FIZZ = 1\n",
        "BUZZ = 2\n",
        "FIZZBUZZ = 3\n",
        "\n",
        "class Environment:\n",
        "    \n",
        "    # the size of the state input vector.\n",
        "    def __init__(self, state_size):\n",
        "        self.state_size = state_size\n",
        "        self.action_size = 4    # number, fizz, buzz or fizzbuzz\n",
        "            \n",
        "    def generateDataSet(self, numOfSamples):\n",
        "        X = []\n",
        "        Y = []\n",
        "        for idx in range(numOfSamples):\n",
        "            testValue = random.randrange(1, numOfSamples)\n",
        "            X.append(dec2Bin(testValue, self.state_size))\n",
        "\n",
        "            result = self.getClassification(testValue)\n",
        "            Y.append(to_onehot(result, self.action_size))\n",
        "               \n",
        "        return np.array(X), np.array(Y)\n",
        "    \n",
        "    def getClassification(self, testValue):\n",
        "        result = NUMBER\n",
        "        if (testValue % 15 == 0):\n",
        "            result = FIZZBUZZ\n",
        "        elif (testValue % 3 == 0):\n",
        "            result = FIZZ\n",
        "        elif (testValue % 5 == 0):\n",
        "            result = BUZZ\n",
        "        else:\n",
        "            result = NUMBER\n",
        "                \n",
        "        return result"
      ],
      "execution_count": 0,
      "outputs": []
    },
    {
      "cell_type": "code",
      "metadata": {
        "id": "7Mzx8tATSqzo",
        "colab_type": "code",
        "colab": {}
      },
      "source": [
        "# The Neural Network Agent\n",
        "class DQNAgent:\n",
        "    def __init__(self, state_size, action_size):\n",
        "        self.state_size = state_size\n",
        "        self.action_size = action_size\n",
        "        self.learning_rate = 0.99\n",
        "        self.model = self._buildModel()\n",
        "    \n",
        "    def train(self, X, Y):\n",
        "        return self.model.fit(X, Y, epochs=500, batch_size=128, verbose=0)\n",
        "        \n",
        "    def predict(self, testValue):\n",
        "        state = dec2Bin(testValue, self.state_size)\n",
        "        state_tensor = np.reshape(state, (1, self.state_size))\n",
        "\n",
        "        action = agent.model.predict(state_tensor)\n",
        "        return action\n",
        "        \n",
        "    def _buildModel(self):\n",
        "        model = Sequential()\n",
        "        model.add(Dense(128, input_shape=(self.state_size,), activation='relu'))\n",
        "        model.add(Dense(64, activation='relu'))\n",
        "        model.add(Dense(env.action_size, activation='softmax'))\n",
        "\n",
        "        model.compile(loss='categorical_crossentropy',optimizer='adam', metrics=['accuracy'])\n",
        "        \n",
        "        # activation ='sigmoid' - from 0 to 1\n",
        "        # activation = 'tanh' - from -1 to +1\n",
        "        # activation = 'softmax' - if it's a classification problem with only one correct class\n",
        "        # actication = 'softplus' - from 0 to +inf.        \n",
        "                             \n",
        "        return model"
      ],
      "execution_count": 0,
      "outputs": []
    },
    {
      "cell_type": "code",
      "metadata": {
        "id": "a_No9RuvSuZz",
        "colab_type": "code",
        "colab": {
          "base_uri": "https://localhost:8080/",
          "height": 330
        },
        "outputId": "fe33ae1f-e3dc-47ca-8c8d-0d0a60bf8c8e"
      },
      "source": [
        "# Train the agent.\n",
        "state_size = 12   # play up to 2^state_size numbers\n",
        "env = Environment(state_size)\n",
        "agent = DQNAgent(env.state_size, env.action_size)\n",
        "X, Y = env.generateDataSet(2**state_size);\n",
        "\n",
        "# break the full set of data into a training set and a testing set.\n",
        "X_train, X_test, Y_train, Y_test = train_test_split(X, Y, test_size=0.15, random_state=42)\n",
        "print('TrainData Size: {}, TestData Size: {}'.format(X_train.shape[0], X_test.shape[0]))\n",
        "\n",
        "history = agent.train(X_train, Y_train)\n",
        "print(history.history.keys())\n",
        "figs, axs = plt.subplots(1,2)\n",
        "axs[0].plot(history.history['loss'])\n",
        "axs[0].set_title('loss')\n",
        "axs[0].set_xlabel('epoch')\n",
        "axs[0].set_ylabel('loss')\n",
        "\n",
        "axs[1].plot(history.history['accuracy'])\n",
        "axs[1].set_title('accuracy')\n",
        "axs[1].set_xlabel('epoch')\n",
        "axs[1].set_ylabel('accuracy')\n",
        "plt.show()"
      ],
      "execution_count": 7,
      "outputs": [
        {
          "output_type": "stream",
          "text": [
            "TrainData Size: 3481, TestData Size: 615\n",
            "dict_keys(['loss', 'accuracy'])\n"
          ],
          "name": "stdout"
        },
        {
          "output_type": "display_data",
          "data": {
            "image/png": "[encoded data removed]",
            "text/plain": [
              "<Figure size 432x288 with 2 Axes>"
            ]
          },
          "metadata": {
            "tags": [],
            "needs_background": "light"
          }
        }
      ]
    },
    {
      "cell_type": "code",
      "metadata": {
        "id": "N2lz38pqTLQ5",
        "colab_type": "code",
        "colab": {
          "base_uri": "https://localhost:8080/",
          "height": 52
        },
        "outputId": "1149f769-48a2-4971-ac47-363795357c6b"
      },
      "source": [
        "# Evaluate the agent with the test dataset.\n",
        "result = agent.model.evaluate(X_test, Y_test)\n",
        "print('Loss: {}, Accuracy: {}'.format(result[0], result[1]))"
      ],
      "execution_count": 8,
      "outputs": [
        {
          "output_type": "stream",
          "text": [
            "615/615 [==============================] - 0s 61us/step\n",
            "Loss: 0.0931435082872527, Accuracy: 0.9772357940673828\n"
          ],
          "name": "stdout"
        }
      ]
    },
    {
      "cell_type": "code",
      "metadata": {
        "id": "GL2rUkdwTO7s",
        "colab_type": "code",
        "colab": {
          "base_uri": "https://localhost:8080/",
          "height": 35
        },
        "outputId": "e4326be1-1958-4439-c1e9-1c1c3b47928b"
      },
      "source": [
        "# Test the agent manually.\n",
        "# This is how you actually use the model for future predictions.\n",
        "\n",
        "nCorrect = 0\n",
        "nWrong = 0\n",
        "\n",
        "count = X_test.shape[0]\n",
        "\n",
        "for i in range(count):\n",
        "    vector_x = X_test[i]\n",
        "    tensor_x = np.reshape(vector_x, (1, env.state_size))\n",
        "    vector_y = Y_test[i]\n",
        "    \n",
        "    prediction = np.argmax(agent.model.predict(tensor_x))\n",
        "    expected = np.argmax(vector_y)\n",
        "    \n",
        "    if (prediction == expected):\n",
        "        nCorrect += 1\n",
        "    else:\n",
        "        nWrong += 1\n",
        "    \n",
        "print('Correct: {}, Incorrect: {}'.format(nCorrect, nWrong))"
      ],
      "execution_count": 9,
      "outputs": [
        {
          "output_type": "stream",
          "text": [
            "Correct: 601, Incorrect: 14\n"
          ],
          "name": "stdout"
        }
      ]
    }
  ]
}