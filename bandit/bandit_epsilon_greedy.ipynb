{
  "nbformat": 4,
  "nbformat_minor": 0,
  "metadata": {
    "colab": {
      "name": "bandit_epsilon_greedy.ipynb",
      "provenance": [],
      "collapsed_sections": [],
      "authorship_tag": "ABX9TyPk/DX5dgh1rnFtyTBj19j+"
    },
    "kernelspec": {
      "name": "python3",
      "display_name": "Python 3"
    }
  },
  "cells": [
    {
      "cell_type": "code",
      "metadata": {
        "id": "8IpRJalWd_nB",
        "colab_type": "code",
        "colab": {}
      },
      "source": [
        "import matplotlib.pyplot as plt\n",
        "import numpy as np\n",
        "\n",
        "NUM_TRIALS = 10000\n",
        "DECAY_RATE = 0.99\n",
        "BANDIT_PROBABILITIES = [0.2, 0.5, 0.75]"
      ],
      "execution_count": 0,
      "outputs": []
    },
    {
      "cell_type": "code",
      "metadata": {
        "id": "H9dYxMeGeIqJ",
        "colab_type": "code",
        "colab": {}
      },
      "source": [
        "class Bandit:\n",
        "  def __init__(self, p):\n",
        "    self.p = p\n",
        "    self.p_estimate = 0\n",
        "    self.N = 0\n",
        "\n",
        "  # returns the reward.\n",
        "  def pull(self):\n",
        "    # the reward which is either 0 or 1\n",
        "    reward = np.random.random() < self.p\n",
        "\n",
        "    return reward\n",
        "\n",
        "  # update the model with the reward.\n",
        "  def update(self, reward):\n",
        "    self.N = self.N + 1\n",
        "    # mean = 1 / N * (N-1)prev_mean + newvalue\n",
        "    self.p_estimate = 1/(self.N) * ((self.N - 1)*self.p_estimate + reward)\n",
        "\n",
        "  # get the next action to take based on the beta distribution.\n",
        "  def sample(self):\n",
        "    return self.p_estimate\n",
        "    "
      ],
      "execution_count": 0,
      "outputs": []
    },
    {
      "cell_type": "code",
      "metadata": {
        "id": "d6FfWaoO_unl",
        "colab_type": "code",
        "outputId": "ea2f9425-4728-4967-ba5c-d7ed31ccec03",
        "colab": {
          "base_uri": "https://localhost:8080/",
          "height": 317
        }
      },
      "source": [
        "def run():\n",
        "  bandits = [Bandit(p) for p in BANDIT_PROBABILITIES]\n",
        "\n",
        "  EPS = 0.95\n",
        "  rewards = np.zeros(NUM_TRIALS)\n",
        "\n",
        "  for i in range(NUM_TRIALS):\n",
        "    # use epsilon-greedy to select the next bandit\n",
        "    if (np.random.random() < EPS):\n",
        "      j = np.random.randint(len(bandits))\n",
        "    else:\n",
        "      j = np.argmax([b.sample() for b in bandits])\n",
        "\n",
        "    # pull the arm of the bandit with the largest sample.\n",
        "    reward = bandits[j].pull()\n",
        "\n",
        "    # update the model\n",
        "    bandits[j].update(reward)\n",
        "\n",
        "    # update rewards log\n",
        "    rewards[i] = reward\n",
        "\n",
        "    # decay the epsilon\n",
        "    if (EPS >= 0.1):\n",
        "      EPS *= DECAY_RATE\n",
        "\n",
        "  # print mean estimates for each bandit\n",
        "  for b in bandits:\n",
        "    print(\"mean estimate\", b.p_estimate, b.N)\n",
        "\n",
        "  # print total reward\n",
        "  #print(\"total reward earned:\", rewards.sum())\n",
        "  #print(\"overall win rate\", rewards.sum() / NUM_TRIALS)\n",
        "  #print(\"num_times_explored:\", num_times_explored)\n",
        "  #print(\"num_times_exploited:\", num_times_exploited)\n",
        "  #print(\"num times slected optimal bandit:\", num_optimal)\n",
        "\n",
        "  # plot the results\n",
        "  cumulative_rewards = np.cumsum(rewards)\n",
        "  win_rates = cumulative_rewards / (np.arange(NUM_TRIALS) + 1)\n",
        "  plt.plot(win_rates)\n",
        "  plt.plot(np.ones(NUM_TRIALS)*np.max(BANDIT_PROBABILITIES))\n",
        "  plt.show()\n",
        "\n",
        "if __name__ == \"__main__\":\n",
        "  run()"
      ],
      "execution_count": 5,
      "outputs": [
        {
          "output_type": "stream",
          "text": [
            "mean estimate 0.1815789473684209 380\n",
            "mean estimate 0.5253731343283576 335\n",
            "mean estimate 0.7442110931610144 9285\n"
          ],
          "name": "stdout"
        },
        {
          "output_type": "display_data",
          "data": {
            "image/png": "[encoded data removed]",
            "text/plain": [
              "<Figure size 432x288 with 1 Axes>"
            ]
          },
          "metadata": {
            "tags": [],
            "needs_background": "light"
          }
        }
      ]
    }
  ]
}